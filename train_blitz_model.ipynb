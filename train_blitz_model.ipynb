{
 "cells": [
  {
   "cell_type": "code",
   "execution_count": null,
   "metadata": {
    "id": "HMgQq695sbdi"
   },
   "outputs": [],
   "source": [
    "import numpy as np\n",
    "import pandas as pd\n",
    "import torch\n",
    "import torch.nn as nn\n",
    "from torch.utils.data import DataLoader\n",
    "from torch.optim import AdamW\n",
    "\n",
    "from preprocessing import get_cv_val_ids, get_data_splits\n",
    "from models import BlitzFrameData, BlitzFrameTransformer\n",
    "from utils import combine_batch2\n",
    "from training import train_epoch2, validate_epoch2, tidy_val_preds"
   ]
  },
  {
   "cell_type": "code",
   "execution_count": null,
   "metadata": {
    "id": "L-WhMOEssu3e"
   },
   "outputs": [],
   "source": [
    "data = pd.read_csv(\"data/feats.csv\")\n",
    "data[\"y\"] = data[\"y\"].fillna(0)\n",
    "data = data.dropna(subset=[\"rel_x_lag\"])\n",
    "\n",
    "play_data = pd.read_csv(\"data/play_feats.csv\")\n",
    "play_data = play_data.set_index([\"game_id\", \"play_id\"])\n",
    "play_data[\"is_man\"] = play_data[\"is_man\"].fillna(0)"
   ]
  },
  {
   "cell_type": "code",
   "execution_count": null,
   "metadata": {
    "id": "3sBq8XWGuJ7U"
   },
   "outputs": [],
   "source": [
    "play_data_dict = {}\n",
    "for key, df in play_data.groupby(play_data.index):\n",
    "    play_data_dict[key] = df.iloc[0].values"
   ]
  },
  {
   "cell_type": "code",
   "execution_count": null,
   "metadata": {
    "id": "g5CoopCRud50"
   },
   "outputs": [],
   "source": [
    "val_ids = get_cv_val_ids(data)"
   ]
  },
  {
   "cell_type": "code",
   "execution_count": null,
   "metadata": {
    "id": "xdHNTfm9vHJg"
   },
   "outputs": [],
   "source": [
    "device = torch.device(\"cuda\" if torch.cuda.is_available() else \"cpu\")\n",
    "torch.manual_seed(2024)\n",
    "torch.cuda.manual_seed(2024)"
   ]
  },
  {
   "cell_type": "code",
   "execution_count": null,
   "metadata": {
    "colab": {
     "base_uri": "https://localhost:8080/"
    },
    "id": "SPcbFN11ulVZ",
    "outputId": "6197a125-e5c4-4ac5-cdf5-cf5ae5f11bfe"
   },
   "outputs": [],
   "source": [
    "feat_names = [\"rel_x\", \"rel_y\", \"rel_x_lag\", \"rel_y_lag\", \"speed_x\", \"speed_y\", \n",
    "              \"acc\", \"ox\", \"oy\", \"position_id\"]\n",
    "cv_preds = []\n",
    "for i, ids in enumerate(val_ids):\n",
    "  print(f\"Validating model with week {i + 1} as validation set.\")\n",
    "\n",
    "  train, val = get_data_splits(data, play_data_dict, ids, feat_names)\n",
    "\n",
    "  train_data = BlitzFrameData(train)\n",
    "  val_data = BlitzFrameData(val)\n",
    "  train_loader = DataLoader(train_data, batch_size=128, shuffle=True, collate_fn=combine_batch2)\n",
    "  val_loader = DataLoader(val_data, batch_size=128, collate_fn=combine_batch2)\n",
    "\n",
    "  input_dim = train[0][1].shape[1] - 1\n",
    "  z_dim = len(train[0][2])\n",
    "  model = BlitzFrameTransformer(input_dim, z_dim, 64, 2, 1).to(device)\n",
    "  optimizer = AdamW(model.parameters(), lr=1e-4, weight_decay=0.1)\n",
    "  loss_fn = nn.BCELoss()\n",
    "\n",
    "  best_loss = 1.\n",
    "  best_epoch = 0\n",
    "  epoch = 0\n",
    "  while epoch - best_epoch < 5:\n",
    "\n",
    "      train_loss, train_preds = train_epoch2(train_loader, model, optimizer, loss_fn, device)\n",
    "      val_loss, val_preds = validate_epoch2(val_loader, model, loss_fn, device)\n",
    "\n",
    "      print(f\"Epoch {epoch}:\\n\")\n",
    "      print(f\"Train loss: {np.round(train_loss, 4)}, Val loss: {np.round(val_loss, 4)}\")\n",
    "\n",
    "      if val_loss < best_loss:\n",
    "          best_loss = val_loss\n",
    "          best_epoch = epoch\n",
    "          best_preds = val_preds.copy()\n",
    "          best_train_preds = train_preds.copy()\n",
    "\n",
    "      epoch += 1\n",
    "\n",
    "  val_preds_df = tidy_val_preds(best_preds, data)\n",
    "  val_preds_df.to_csv(f\"data/val_preds_week_{i + 1}.csv\", index=False)\n",
    "  cv_preds.append(val_preds_df)"
   ]
  },
  {
   "cell_type": "code",
   "execution_count": null,
   "metadata": {
    "id": "bezDjX-eDCTg"
   },
   "outputs": [],
   "source": [
    "cv_preds = []\n",
    "for i in range(1, 10):\n",
    "  cv_preds.append(pd.read_csv(f\"data/val_preds_week_{i}.csv\"))\n",
    "cv_preds_df = pd.concat(cv_preds)"
   ]
  },
  {
   "cell_type": "code",
   "execution_count": null,
   "metadata": {
    "id": "yZGuKf0IGxdh"
   },
   "outputs": [],
   "source": [
    "cv_preds_df.to_csv(\"data/cv_preds.csv\", index=False)"
   ]
  }
 ],
 "metadata": {
  "accelerator": "GPU",
  "colab": {
   "gpuType": "A100",
   "machine_shape": "hm",
   "provenance": []
  },
  "kernelspec": {
   "display_name": "bdb-25",
   "language": "python",
   "name": "python3"
  },
  "language_info": {
   "codemirror_mode": {
    "name": "ipython",
    "version": 3
   },
   "file_extension": ".py",
   "mimetype": "text/x-python",
   "name": "python",
   "nbconvert_exporter": "python",
   "pygments_lexer": "ipython3",
   "version": "3.11.10"
  }
 },
 "nbformat": 4,
 "nbformat_minor": 0
}
